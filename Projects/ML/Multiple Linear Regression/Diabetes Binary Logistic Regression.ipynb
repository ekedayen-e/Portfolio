{
 "cells": [
  {
   "cell_type": "code",
   "execution_count": 90,
   "id": "e6eded47",
   "metadata": {},
   "outputs": [],
   "source": [
    "import copy, math\n",
    "import numpy as np\n",
    "import matplotlib.pyplot as plt\n",
    "import pandas as pd"
   ]
  },
  {
   "cell_type": "code",
   "execution_count": 91,
   "id": "f36e1815",
   "metadata": {},
   "outputs": [],
   "source": [
    "X_Features = [\"Pregnancies\",\"Glucose\",\"BloodPressure\",\"SkinThickness\",\"Insulin\",\"BMI\",\"DPF\",\"Age\"]\n",
    "df = pd.read_csv(\"diabetes.csv\")\n",
    "v = df.values\n",
    "x_train = v[:,:8]\n",
    "y_train = v[:,8]"
   ]
  },
  {
   "cell_type": "code",
   "execution_count": 92,
   "id": "d189aef7",
   "metadata": {},
   "outputs": [
    {
     "data": {
      "image/png": "[encoded data removed]",
      "text/plain": [
       "<Figure size 1200x300 with 8 Axes>"
      ]
     },
     "metadata": {},
     "output_type": "display_data"
    }
   ],
   "source": [
    "fig, ax = plt.subplots(1,8, figsize =(12,3), sharey=True)\n",
    "for i in range(len(ax)):\n",
    "    ax[i].scatter(x_train[:,i],y_train)\n",
    "    ax[i].set_xlabel(X_Features[i])\n",
    "ax[0].set_ylabel(\"Outcome\")\n",
    "plt.show()"
   ]
  },
  {
   "cell_type": "code",
   "execution_count": 93,
   "id": "c6c1bf4e",
   "metadata": {},
   "outputs": [],
   "source": [
    "#Feature Engineering\n"
   ]
  },
  {
   "cell_type": "code",
   "execution_count": 94,
   "id": "fdc24171",
   "metadata": {},
   "outputs": [],
   "source": [
    "#Normalization\n",
    "def z_norm(X):\n",
    "    mu = np.mean(X, axis = 0)\n",
    "    sigma = np.std(X, axis = 0)\n",
    "    \n",
    "    X_norm = (X - mu) / sigma\n",
    "    \n",
    "    return X_norm, mu, sigma"
   ]
  },
  {
   "cell_type": "code",
   "execution_count": 95,
   "id": "2550ea0b",
   "metadata": {},
   "outputs": [],
   "source": [
    "def sigmoid(z):\n",
    "    \n",
    "    g = 1 / (1 + np.exp(-z))\n",
    "    \n",
    "    return g"
   ]
  },
  {
   "cell_type": "code",
   "execution_count": 96,
   "id": "e7a2d760",
   "metadata": {},
   "outputs": [],
   "source": [
    "#Compute Cost\n",
    "def compute_cost(x,y,m,c):\n",
    "    l, w = x.shape\n",
    "    cost = 0\n",
    "    for i in range(l):\n",
    "        z = np.dot(x[i],m) + c\n",
    "        f_wb = sigmoid(z)\n",
    "        cost += -y[i]*np.log(f_wb) - (1 - y[i]) * (np.log(1 - f_wb))\n",
    "    cost /= l\n",
    "    \n",
    "    return cost\n",
    "    "
   ]
  },
  {
   "cell_type": "code",
   "execution_count": 307,
   "id": "9f49996f",
   "metadata": {},
   "outputs": [],
   "source": [
    "#Compute Gradient\n",
    "def compute_gradient(x,y,m,c,lm):\n",
    "    l, w = x.shape\n",
    "    d_m = np.zeros((w,))\n",
    "    d_c = 0\n",
    "    for i in range(l):\n",
    "        f_wb = sigmoid(np.dot(x[i],m) + c)\n",
    "        err = f_wb - y[i]\n",
    "        for j in range(w):\n",
    "            d_m[j] += err * x[i,j] \n",
    "        d_c += err\n",
    "        \n",
    "    d_m /= l\n",
    "    d_c /= l\n",
    "    \n",
    "    for j in range(w):\n",
    "        d_m[j] += ((lm/l) * m[j])\n",
    "    \n",
    "    return d_m, d_c"
   ]
  },
  {
   "cell_type": "code",
   "execution_count": 308,
   "id": "97a75610",
   "metadata": {},
   "outputs": [],
   "source": [
    "#Gradient Descent\n",
    "def gradient_descent(x,y,init_m, init_c, alpha, lm, iters, cost_function, gradient_function):\n",
    "    m = copy.deepcopy(init_m)\n",
    "    c = init_c\n",
    "    cost_history = []\n",
    "    \n",
    "    for i in range(iters):\n",
    "        d_m, d_c = gradient_function(x,y,m,c,lm)\n",
    "        \n",
    "        m = m - alpha * d_m\n",
    "        c = c - alpha * d_c\n",
    "        \n",
    "        if i < 100000:\n",
    "            if(i % math.ceil(iters/10) == 0):\n",
    "                cost_history.append(cost_function(x,y,m,c))\n",
    "                print(f\"Iteration {i}: Cost {cost_history[-1]}\")\n",
    "                \n",
    "    return m,c,cost_history"
   ]
  },
  {
   "cell_type": "code",
   "execution_count": 309,
   "id": "4aa8d28d",
   "metadata": {},
   "outputs": [
    {
     "name": "stdout",
     "output_type": "stream",
     "text": [
      "Iteration 0: Cost 0.6805329129000138\n",
      "Iteration 1000: Cost 0.47101455907437845\n",
      "Iteration 2000: Cost 0.47101344480582763\n",
      "Iteration 3000: Cost 0.47101344341149276\n",
      "Iteration 4000: Cost 0.47101344340920615\n",
      "Iteration 5000: Cost 0.47101344340920237\n",
      "Iteration 6000: Cost 0.4710134434092024\n",
      "Iteration 7000: Cost 0.4710134434092024\n",
      "Iteration 8000: Cost 0.4710134434092024\n",
      "Iteration 9000: Cost 0.4710134434092024\n",
      "[ 0.40863995  1.10711315 -0.25088654  0.00906495 -0.13083746  0.69631328\n",
      "  0.30883021  0.17651055] -0.86677591731547\n"
     ]
    }
   ],
   "source": [
    "#Initialization \n",
    "l , w = x_train.shape\n",
    "#X = np.c_[x_train, x_train[:,0]**2,x_train[:,1]**3,x_train[:,5]**2, x_train[:,3]**8]\n",
    "X_norm, mu, sigma = z_norm(x_train)#x_train\n",
    "init_m = np.zeros(w)\n",
    "init_c = 0\n",
    "alpha = 0.1\n",
    "lm = 1\n",
    "iters = 10000\n",
    "m,c,cost_history = gradient_descent(X_norm, y_train, init_m, init_c, alpha, lm, iters, compute_cost, compute_gradient)\n",
    "print(m,c)"
   ]
  },
  {
   "cell_type": "code",
   "execution_count": 310,
   "id": "4f4e4336",
   "metadata": {},
   "outputs": [
    {
     "name": "stdout",
     "output_type": "stream",
     "text": [
      "78.38541666666666\n"
     ]
    }
   ],
   "source": [
    "#Prediction\n",
    "l, w = x_train.shape\n",
    "f_wb = np.zeros(l)\n",
    "count = 0\n",
    "for i in range(l):\n",
    "    s = sigmoid(np.dot(X_norm[i],m) + c)\n",
    "    if(s >= 0.5):\n",
    "        f_wb[i] = 1\n",
    "    else:\n",
    "        f_wb[i] = 0\n",
    "\n",
    "for i in range(l):\n",
    "    if(f_wb[i] == y_train[i]):\n",
    "        count += 1\n",
    "\n",
    "print((count / l) * 100)"
   ]
  },
  {
   "cell_type": "code",
   "execution_count": 293,
   "id": "69bb218e",
   "metadata": {},
   "outputs": [],
   "source": [
    "def all_features(x,i,norm_func):\n",
    "    start= x[:,i]\n",
    "    \n",
    "   #n = np.c_[half, square, cube, fourth, fifth, sixth, seven, eight, ninth, tenth] #11\n",
    "    n = np.c_[start,start**(1/2), start ** 2, start **3, start**4, start*5]\n",
    "    #N = norm_func(n)\n",
    "    return n"
   ]
  },
  {
   "cell_type": "code",
   "execution_count": 261,
   "id": "9dd25024",
   "metadata": {},
   "outputs": [
    {
     "name": "stdout",
     "output_type": "stream",
     "text": [
      "Iteration 0: Cost 0.6930468368516172\n",
      "Iteration 1000: Cost 0.6927944594641483\n",
      "Iteration 2000: Cost 0.6927944584933433\n",
      "Iteration 3000: Cost 0.6927944575225671\n",
      "Iteration 4000: Cost 0.6927944565518188\n",
      "Iteration 5000: Cost 0.6927944555811005\n",
      "Iteration 6000: Cost 0.692794454610409\n",
      "Iteration 7000: Cost 0.6927944536397469\n",
      "Iteration 8000: Cost 0.6927944526691138\n",
      "Iteration 9000: Cost 0.6927944516985088\n",
      "[-5.93665275e-17 -7.26877753e-18 -2.83297076e-15  3.14620714e-13\n",
      "  2.20359952e-12 -2.96832637e-16] -1.5288873529797758e-18\n"
     ]
    }
   ],
   "source": [
    "#\"Pregnancies ^ 2\",\"Glucose^3\",\"BloodPressure\",\"SkinThickness^5\",\"Insulin^(1/2)\",\"BMI^2\",\"DPF^(1/2)\",\"Age^(1/2)\""
   ]
  },
  {
   "cell_type": "code",
   "execution_count": null,
   "id": "3db6d1cb",
   "metadata": {},
   "outputs": [],
   "source": []
  }
 ],
 "metadata": {
  "kernelspec": {
   "display_name": "Python 3 (ipykernel)",
   "language": "python",
   "name": "python3"
  },
  "language_info": {
   "codemirror_mode": {
    "name": "ipython",
    "version": 3
   },
   "file_extension": ".py",
   "mimetype": "text/x-python",
   "name": "python",
   "nbconvert_exporter": "python",
   "pygments_lexer": "ipython3",
   "version": "3.10.9"
  }
 },
 "nbformat": 4,
 "nbformat_minor": 5
}
