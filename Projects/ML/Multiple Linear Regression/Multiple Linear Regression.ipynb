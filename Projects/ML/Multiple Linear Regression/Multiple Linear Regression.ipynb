{
 "cells": [
  {
   "cell_type": "code",
   "execution_count": 144,
   "id": "5855980e",
   "metadata": {},
   "outputs": [],
   "source": [
    "import numpy as np\n",
    "import math, copy\n",
    "import matplotlib.pyplot as plt\n",
    "import pandas as pd"
   ]
  },
  {
   "cell_type": "code",
   "execution_count": 187,
   "id": "2e6f58ab",
   "metadata": {},
   "outputs": [
    {
     "name": "stdout",
     "output_type": "stream",
     "text": [
      "[[25  1]\n",
      " [30  3]\n",
      " [47  2]\n",
      " [32  5]\n",
      " [43 10]\n",
      " [51  7]\n",
      " [28  5]\n",
      " [33  4]\n",
      " [37  5]\n",
      " [39  8]\n",
      " [29  1]\n",
      " [47  9]\n",
      " [54  5]\n",
      " [51  4]\n",
      " [44 12]\n",
      " [41  6]\n",
      " [58 17]\n",
      " [23  1]\n",
      " [44  9]\n",
      " [37 10]]\n",
      "[30450 35670 31580 40130 47830 41630 41340 37650 40250 45150 27840 46110\n",
      " 36720 34800 51300 38900 63600 30870 44190 48700]\n"
     ]
    }
   ],
   "source": [
    "df = pd.read_csv(\"Wage.csv\")\n",
    "v = df.values\n",
    "features = v[:,:2] #Array of Fish Features(length1, length2, length3, height, width)\n",
    "weight = v[:,2] #Array of Fish Weight\n",
    "print(features)\n",
    "print(weight)"
   ]
  },
  {
   "cell_type": "code",
   "execution_count": 226,
   "id": "10b45c90",
   "metadata": {},
   "outputs": [],
   "source": [
    "def compute_cost(x,y,m,c):\n",
    "    l,w = x.shape\n",
    "    avg_cost = 0\n",
    "    for i in range(l):\n",
    "        prediction = np.dot(x[i], m) + c\n",
    "        avg_cost += (prediction - y[i]) ** 2\n",
    "    avg_cost /= (2 * l)\n",
    "    \n",
    "    return avg_cost"
   ]
  },
  {
   "cell_type": "code",
   "execution_count": 227,
   "id": "11bac0b1",
   "metadata": {},
   "outputs": [],
   "source": [
    "def prediction(x,m,c):\n",
    "    p = np.dot(x,m) + c\n",
    "    return p"
   ]
  },
  {
   "cell_type": "code",
   "execution_count": 228,
   "id": "6366fb25",
   "metadata": {},
   "outputs": [],
   "source": [
    "def compute_gradient(x,y,m,c):\n",
    "    l,w = x.shape\n",
    "    d_m = np.zeros((w,))\n",
    "    d_c = 0\n",
    "    \n",
    "    for i in range(l):\n",
    "        val = (np.dot(x[i],m) + c) - y[i]\n",
    "        for j in range(w):\n",
    "            d_m[j] += val * x[i,j]\n",
    "        d_c += val\n",
    "        \n",
    "    d_m /= l\n",
    "    d_c /= l\n",
    "    \n",
    "    return d_m, d_c"
   ]
  },
  {
   "cell_type": "code",
   "execution_count": 229,
   "id": "2046c0b5",
   "metadata": {},
   "outputs": [],
   "source": [
    "def gradient_descent(x, y, m_init, c_init, alpha, iterations, gradient_function):\n",
    "    m = copy.deepcopy(m_init)\n",
    "    c = c_init\n",
    "    \n",
    "    for i in range(iterations):\n",
    "        d_m, d_c = gradient_function(x, y, m, c)\n",
    "        m = m - alpha * d_m\n",
    "        c = c - alpha * d_c\n",
    "    \n",
    "    return m,c"
   ]
  },
  {
   "cell_type": "code",
   "execution_count": 230,
   "id": "ce5c9ac0",
   "metadata": {},
   "outputs": [
    {
     "name": "stdout",
     "output_type": "stream",
     "text": [
      "[ -52.81073154 2127.63471675] 29547.613918102692\n"
     ]
    }
   ],
   "source": [
    "#parameters\n",
    "m_init = np.zeros(2)\n",
    "c_init = 0\n",
    "alpha = 0.0011\n",
    "iterations = 50000\n",
    "w,c = gradient_descent(features, weight, m_init, c_init, alpha, iterations, compute_gradient)\n",
    "print(w,c)"
   ]
  },
  {
   "cell_type": "code",
   "execution_count": 235,
   "id": "b0115ed5",
   "metadata": {},
   "outputs": [
    {
     "name": "stdout",
     "output_type": "stream",
     "text": [
      "[43 10]\n",
      "48553.09962938601\n"
     ]
    }
   ],
   "source": [
    "fig = np.array([43, 10])\n",
    "print(fig)\n",
    "test = prediction(fig,w,c)\n",
    "print(test)"
   ]
  },
  {
   "cell_type": "code",
   "execution_count": 232,
   "id": "731a8f4b",
   "metadata": {},
   "outputs": [
    {
     "name": "stdout",
     "output_type": "stream",
     "text": [
      "20\n",
      "844464.5009429927\n"
     ]
    }
   ],
   "source": [
    "res = compute_cost(features, weight, w, c)\n",
    "print(res)"
   ]
  },
  {
   "cell_type": "code",
   "execution_count": null,
   "id": "2eac06a7",
   "metadata": {},
   "outputs": [],
   "source": []
  }
 ],
 "metadata": {
  "kernelspec": {
   "display_name": "Python 3 (ipykernel)",
   "language": "python",
   "name": "python3"
  },
  "language_info": {
   "codemirror_mode": {
    "name": "ipython",
    "version": 3
   },
   "file_extension": ".py",
   "mimetype": "text/x-python",
   "name": "python",
   "nbconvert_exporter": "python",
   "pygments_lexer": "ipython3",
   "version": "3.10.9"
  }
 },
 "nbformat": 4,
 "nbformat_minor": 5
}
